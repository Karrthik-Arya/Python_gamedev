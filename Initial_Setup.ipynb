{
  "nbformat": 4,
  "nbformat_minor": 0,
  "metadata": {
    "colab": {
      "name": "Initial_Setup.ipynb",
      "provenance": [],
      "collapsed_sections": []
    },
    "kernelspec": {
      "name": "python3",
      "display_name": "Python 3"
    },
    "language_info": {
      "name": "python"
    }
  },
  "cells": [
    {
      "cell_type": "markdown",
      "metadata": {
        "id": "5BKUGA2Petyb"
      },
      "source": [
        "# Building the game's basic setup"
      ]
    },
    {
      "cell_type": "markdown",
      "metadata": {
        "id": "NRJBTOKRenoh"
      },
      "source": [
        "## Creating an empty pygame window and taking input from users\n",
        "We will be creating this pygame window in the file alien_invasion.py. This will be our main file from where we might call other functions/methods from modules as the need arises. So make this file and add the following code in it. This code simply creates an empty display window which ends the program when we close it."
      ]
    },
    {
      "cell_type": "code",
      "metadata": {
        "id": "nW0Xj7x5dWai"
      },
      "source": [
        "import sys\n",
        "import pygame\n",
        "\n",
        "def run_game():\n",
        "    # Initialize game and create a screen object.\n",
        "    pygame.init()\n",
        "    screen = pygame.display.set_mode((1200, 800)) #creates the display window which here would be our game window\n",
        "    pygame.display.set_caption(\"Alien Invasion\") # sets the title for the display window\n",
        "    bg_color = (230,230,230)\n",
        "    # Start the main loop for the game.\n",
        "    while True:\n",
        "        # Watch for keyboard and mouse events.\n",
        "        for event in pygame.event.get():\n",
        "            if event.type == pygame.QUIT:\n",
        "                sys.exit()\n",
        "                \n",
        "        # Draw the screen with the desired colour at each pass\n",
        "        screen.fill(bg_color)\n",
        "      \n",
        "        # Make the most recently drawn screen visible.\n",
        "        pygame.display.flip()\n",
        "\n",
        "run_game()"
      ],
      "execution_count": null,
      "outputs": []
    },
    {
      "cell_type": "markdown",
      "metadata": {
        "id": "3-CXdDX3fuzU"
      },
      "source": [
        "We import the *sys* and *pygame* modules. The *pygame* module con-\n",
        "tains the functionality needed to make a game. while we are using the *sys* module to exit the game when the player quits.\n",
        "\n",
        "We are using the function *run_game()*. The function *pygame.init()*\n",
        "initializes background settings that Pygame needs to work properly.\n",
        "We also call *pygame.display.set_mode()* to create a display window called screen, on which we’ll draw all of the game’s graphical elements. The argument (1200, 800) is a tuple that defines the dimensions of the game window(width and height). The screen object is a *surface*. One thing to note here is that when we activate\n",
        "the game’s animation loop, this surface is automatically redrawn on every pass through the loop.\n",
        "\n",
        "The game is controlled by a while loop that contains an event loop(the for loop)and code that manages screen updates. To make our program respond to events, we have the *event loop* to\n",
        "*listen* for an event and perform an appropriate task depending on the kind of event that occurred.*pygame.event.get()* is used to acces any event that is detected. Any keyboard or mouse event will cause the for loop to run. Here, when the player clicks the game window’s close button, a *pygame.QUIT* event is detected and we call *sys.exit()* to exit the game.\n",
        "\n",
        "The call to *pygame.display.flip()* refreshes the screen. It tells Pygame to make the most recently drawn screen visible and erase the old screen. \n",
        "\n",
        "In order to set the background colour for our game window we use the *screen.fill(color)* function. We stored the tuple for our color in *bg_color* and then passed it to the *screen.fill()* function. It uses the RGB colour scheme for setting the colours. \n"
      ]
    },
    {
      "cell_type": "markdown",
      "metadata": {
        "id": "sfSK0wyJj1o4"
      },
      "source": [
        "## Create a Settings class\n",
        "Each time we introduce new functionality into our game, we’ll typically introduce some new settings as well. Instead of adding settings throughout the code, we can write a module called settings that contains a class called Settings to store all the settings in one place.\n",
        "\n",
        "You can create settings.py with the following code."
      ]
    },
    {
      "cell_type": "code",
      "metadata": {
        "id": "7uEgxJkgK7Wc"
      },
      "source": [
        "class Settings():\n",
        "    \"\"\"A class to store all settings for Alien Invasion.\"\"\"\n",
        "    def __init__(self):\n",
        "        \"\"\"Initialize the game's settings.\"\"\"\n",
        "        # Screen settings\n",
        "        self.screen_width = 1200\n",
        "        self.screen_height = 800\n",
        "        self.bg_color = (230, 230, 230)\n"
      ],
      "execution_count": null,
      "outputs": []
    },
    {
      "cell_type": "markdown",
      "metadata": {
        "id": "9McyApweLa56"
      },
      "source": [
        "To make an instance of Settings and use it to access our settings, modify *alien_invasion.py* as follows"
      ]
    },
    {
      "cell_type": "code",
      "metadata": {
        "id": "ld_vghcDLdBQ"
      },
      "source": [
        "import sys\n",
        "import pygame\n",
        "from settings import Settings\n",
        "\n",
        "def run_game():\n",
        "    # Initialize pygame, settings, and screen object.\n",
        "    pygame.init()\n",
        "\n",
        "    ai_settings = Settings()\n",
        "\n",
        "    screen = pygame.display.set_mode((ai_settings.screen_width, ai_settings.screen_height))\n",
        "    pygame.display.set_caption(\"Alien Invasion\")\n",
        "\n",
        "    # Start the main loop for the game.\n",
        "    while True:\n",
        "      # Watch for keyboard and mouse events.\n",
        "      for event in pygame.event.get():\n",
        "        if event.type == pygame.QUIT:\n",
        "          sys.exit()\n",
        "      # Redraw the screen during each pass through the loop.\n",
        "      screen.fill(ai_settings.bg_color)\n",
        "      # Make the most recently drawn screen visible.\n",
        "      pygame.display.flip()\n",
        "\n",
        "run_game()\n"
      ],
      "execution_count": null,
      "outputs": []
    },
    {
      "cell_type": "markdown",
      "metadata": {
        "id": "ISuW6uWeNlC1"
      },
      "source": [
        "We import Settings into the main program file, and then create an\n",
        "instance of Settings and store it in ai_settings. When we create a screen, we use the screen_width and\n",
        "screen_height attributes of ai_settings, and then we use ai_settings to access the background color when filling the screen as well.\n"
      ]
    },
    {
      "cell_type": "markdown",
      "metadata": {
        "id": "WYDBCgcDN9l3"
      },
      "source": [
        "## Adding the ship\n",
        "To draw the player’s ship on screen, we’ll load an image and then use the Pygame method *blit()* to draw the image.\n",
        "You can use almost any type of image file in your game, but it’s easiest if you use a *bitmap (.bmp)* file because Pygame loads bitmaps by default. Although you can configure Pygame to use other file types, some file types depend on certain image libraries that must be installed on your computer.\n",
        "\n",
        "Make a folder called *images* inside your main project\n",
        "folder (alien_invasion). Save the file *ship.bmp* in the images folder.  \n",
        "\n",
        "Now back in our main project folder we’ll write a module called ship, which contains the class Ship. Make the file *ship.py*,  with the following code. \n",
        "\n"
      ]
    },
    {
      "cell_type": "code",
      "metadata": {
        "id": "mK600PH8N5vb"
      },
      "source": [
        "import pygame\n",
        "\n",
        "class Ship():\n",
        "\n",
        "  def __init__(self, screen):\n",
        "    \"\"\"Initialize the ship and set its starting position.\"\"\"\n",
        "\n",
        "    self.screen = screen #This refers to the screen object we had created\n",
        "    \n",
        "    # Load the ship image and get its rect.\n",
        "    self.image = pygame.image.load('images/ship.bmp')\n",
        "    self.rect = self.image.get_rect()\n",
        "    self.screen_rect = screen.get_rect()\n",
        "\n",
        "    # Start each new ship at the bottom center of the screen.\n",
        "    self.rect.centerx = self.screen_rect.centerx\n",
        "    self.rect.bottom = self.screen_rect.bottom\n",
        "\n",
        "  def blitme(self):\n",
        "    \"\"\"Draw the ship at its current location.\"\"\"\n",
        "    self.screen.blit(self.image, self.rect)\n"
      ],
      "execution_count": null,
      "outputs": []
    },
    {
      "cell_type": "markdown",
      "metadata": {
        "id": "I9VJ1NH9Zldn"
      },
      "source": [
        "The *\\_\\_init__()* method of Ship takes\n",
        "two parameters: the self reference and the screen where we’ll draw the ship.\n",
        "To load the image, we call *pygame.image.load()*. This function returns a surface representing the ship, which we store in *self.image*. Once the image is loaded, we use *get_rect()* to access the surface’s *rect* attribute. One reason Pygame is so efficient is that it lets you treat game elements like rectangles (rects), even if they’re not exactly shaped like rectangles. \n",
        "\n",
        "When working with a *rect* object, you can use the x- and y-coordinates of the top, bottom, left, and right edges of the rectangle, as well as the center. When you’re centering a game element, work with the `center`, `centerx`, or `centery` attributes of a rect. When you’re working at an edge of the screen, work with the `top`, `bottom`, `left`, or `right` attributes. When you’re adjusting the horizontal or vertical placement of the rect, you can just use the x and y attributes, which are the x- and y-coordinates of its top-left corner.\n",
        "\n",
        "We’ll position the ship at the bottom center of the screen. To do so,\n",
        "first store the screen’s rect in `self.screen_rect` , and then make the value\n",
        "of `self.rect.centerx` (the x-coordinate of the ship’s center) match the *centerx* attribute of the screen’s rect. Make the value of `self.rect.bottom` (the y-coordinate of the ship’s bottom) equal to the value of the screen rect’s bottom attribute.\n",
        "\n",
        "Then we define the `blitme()` method, which will draw the image to the screen at the position specified by self.rect.\n"
      ]
    },
    {
      "cell_type": "markdown",
      "metadata": {
        "id": "opaxDnv5bnaq"
      },
      "source": [
        "Now we will update alien_invasion.py so it creates a ship and calls the ship’s `blitme()` method"
      ]
    },
    {
      "cell_type": "code",
      "metadata": {
        "id": "nRexzb1zbq5k"
      },
      "source": [
        "import sys\n",
        "import pygame\n",
        "from settings import Settings\n",
        "from ship import Ship\n",
        "\n",
        "def run_game():\n",
        "    # Initialize pygame, settings, and screen object.\n",
        "    pygame.init()\n",
        "\n",
        "    ai_settings = Settings()\n",
        "\n",
        "    screen = pygame.display.set_mode((ai_settings.screen_width, ai_settings.screen_height))\n",
        "    pygame.display.set_caption(\"Alien Invasion\")\n",
        "\n",
        "    # Make a ship.\n",
        "    ship = Ship(screen)\n",
        "\n",
        "    # Start the main loop for the game.\n",
        "    while True:\n",
        "      # Watch for keyboard and mouse events.\n",
        "      for event in pygame.event.get():\n",
        "        if event.type == pygame.QUIT:\n",
        "          sys.exit()\n",
        "\n",
        "      # Redraw the screen during each pass through the loop.\n",
        "      screen.fill(ai_settings.bg_color)\n",
        "      ship.blitme() #draw the ship\n",
        "\n",
        "      # Make the most recently drawn screen visible.\n",
        "      pygame.display.flip()\n",
        "\n",
        "run_game()\n"
      ],
      "execution_count": null,
      "outputs": []
    },
    {
      "cell_type": "markdown",
      "metadata": {
        "id": "OXI88JHreACW"
      },
      "source": [
        "We import Ship and then make an instance of Ship (named ship) after\n",
        "the screen has been created. It must come before the main while loop so we don’t make a new instance of the ship on each pass through the loop. We draw the ship onscreen by calling `ship.blitme()` after filling the background, so the ship appears on top of the background.\n"
      ]
    },
    {
      "cell_type": "markdown",
      "metadata": {
        "id": "WXxnRmUjebD9"
      },
      "source": [
        "When you run alien_invasion.py now, you should see an empty game\n",
        "screen with our rocket ship sitting at the bottom center. Like this:   \n",
        "\n",
        "![initial_setup.png](data:image/png;base64,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)\n"
      ]
    }
  ]
}